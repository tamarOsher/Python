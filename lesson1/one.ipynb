{
 "cells": [
  {
   "cell_type": "code",
   "execution_count": 1,
   "id": "8d7d6d7f-b481-407e-82aa-10548c0ae237",
   "metadata": {},
   "outputs": [
    {
     "name": "stdout",
     "output_type": "stream",
     "text": [
      "Requirement already satisfied: Numpy in c:\\python310\\lib\\site-packages (1.26.4)\n",
      "Note: you may need to restart the kernel to use updated packages.\n"
     ]
    },
    {
     "name": "stderr",
     "output_type": "stream",
     "text": [
      "\n",
      "[notice] A new release of pip is available: 23.3.2 -> 24.0\n",
      "[notice] To update, run: python.exe -m pip install --upgrade pip\n"
     ]
    }
   ],
   "source": [
    "pip install numpy\n"
   ]
  },
  {
   "cell_type": "code",
   "execution_count": 3,
   "id": "a994ae93-b0fa-4695-9d73-6d6d695958dc",
   "metadata": {},
   "outputs": [],
   "source": [
    "import numpy as np"
   ]
  },
  {
   "cell_type": "code",
   "execution_count": 4,
   "id": "a15b37e4-f37a-4275-9e03-18d8120c702f",
   "metadata": {},
   "outputs": [
    {
     "data": {
      "text/plain": [
       "array([48, 45, 34, 12, 36, 47, 30, 20, 36, 47])"
      ]
     },
     "execution_count": 4,
     "metadata": {},
     "output_type": "execute_result"
    }
   ],
   "source": [
    "random_int_array = np.random.randint(1, 50, size=(10))\n",
    "random_int_array"
   ]
  },
  {
   "cell_type": "code",
   "execution_count": 5,
   "id": "996c6d38-2244-4bd4-a0d5-6545c85ece89",
   "metadata": {},
   "outputs": [
    {
     "data": {
      "text/plain": [
       "10"
      ]
     },
     "execution_count": 5,
     "metadata": {},
     "output_type": "execute_result"
    }
   ],
   "source": [
    "random_int_array.size"
   ]
  },
  {
   "cell_type": "code",
   "execution_count": 6,
   "id": "10b23d2a-3791-48d6-95e3-bff1a41a393d",
   "metadata": {},
   "outputs": [
    {
     "data": {
      "text/plain": [
       "dtype('int32')"
      ]
     },
     "execution_count": 6,
     "metadata": {},
     "output_type": "execute_result"
    }
   ],
   "source": [
    "random_int_array.dtype\n"
   ]
  },
  {
   "cell_type": "code",
   "execution_count": 7,
   "id": "20100900-9776-4537-865d-f7660cb4c3d4",
   "metadata": {},
   "outputs": [
    {
     "data": {
      "text/plain": [
       "1"
      ]
     },
     "execution_count": 7,
     "metadata": {},
     "output_type": "execute_result"
    }
   ],
   "source": [
    "random_int_array.ndim"
   ]
  },
  {
   "cell_type": "code",
   "execution_count": 12,
   "id": "9e1ef49c-9c28-4e59-b29e-421352aab961",
   "metadata": {},
   "outputs": [],
   "source": [
    "random_int_mtr = np.random.randint(10, 100, size=(2,5))"
   ]
  },
  {
   "cell_type": "code",
   "execution_count": 13,
   "id": "07922d87-d5cf-4eb0-a6a3-2a61b82dd3cc",
   "metadata": {},
   "outputs": [
    {
     "data": {
      "text/plain": [
       "array([[40, 20, 12, 82, 49],\n",
       "       [58, 86, 31, 32, 62]])"
      ]
     },
     "execution_count": 13,
     "metadata": {},
     "output_type": "execute_result"
    }
   ],
   "source": [
    "random_int_mtr"
   ]
  },
  {
   "cell_type": "code",
   "execution_count": 14,
   "id": "1e7bd3d3-6061-45c3-8084-e3d9f7316d82",
   "metadata": {},
   "outputs": [
    {
     "data": {
      "text/plain": [
       "(2, 5)"
      ]
     },
     "execution_count": 14,
     "metadata": {},
     "output_type": "execute_result"
    }
   ],
   "source": [
    "random_int_mtr.shape"
   ]
  },
  {
   "cell_type": "code",
   "execution_count": 15,
   "id": "741efa9d-78e7-4db6-862d-50051668acb1",
   "metadata": {},
   "outputs": [
    {
     "data": {
      "text/plain": [
       "35.2"
      ]
     },
     "execution_count": 15,
     "metadata": {},
     "output_type": "execute_result"
    }
   ],
   "source": [
    "#1\n",
    "np.mean(random_int_array)"
   ]
  },
  {
   "cell_type": "code",
   "execution_count": 16,
   "id": "dd233cc3-f28b-40e6-9597-4e4ac114974d",
   "metadata": {},
   "outputs": [],
   "source": [
    "#2\n",
    "a = np.random.randint(1, 100, size=(3,3))\n",
    "b = np.random.randint(1, 100, size=(3,3))\n",
    "ab=a+b"
   ]
  },
  {
   "cell_type": "code",
   "execution_count": 17,
   "id": "b93e4645-fd1f-4de7-8c5e-b0883dc45cc2",
   "metadata": {},
   "outputs": [
    {
     "data": {
      "text/plain": [
       "array([[ 12, 150,  61],\n",
       "       [ 31,  60, 121],\n",
       "       [ 97, 126, 110]])"
      ]
     },
     "execution_count": 17,
     "metadata": {},
     "output_type": "execute_result"
    }
   ],
   "source": [
    "ab"
   ]
  },
  {
   "cell_type": "code",
   "execution_count": 18,
   "id": "ee9b26e2-76fc-4e7f-9926-2bd05992e602",
   "metadata": {},
   "outputs": [
    {
     "data": {
      "text/plain": [
       "85.33333333333333"
      ]
     },
     "execution_count": 18,
     "metadata": {},
     "output_type": "execute_result"
    }
   ],
   "source": [
    "np.mean(ab)"
   ]
  },
  {
   "cell_type": "code",
   "execution_count": 27,
   "id": "774acb88-b1c2-4dd4-a309-a5391bdc6719",
   "metadata": {},
   "outputs": [
    {
     "data": {
      "text/plain": [
       "array([ 7,  2, 83, 87,  5, 16, 84, 88, 13, 40, 15, 28, 67, 55, 23, 72, 28,\n",
       "       81, 79, 53])"
      ]
     },
     "execution_count": 27,
     "metadata": {},
     "output_type": "execute_result"
    }
   ],
   "source": [
    "#3\n",
    "arr=np.random.randint(1, 100, size=(20))\n",
    "arr"
   ]
  },
  {
   "cell_type": "code",
   "execution_count": 28,
   "id": "37db8366-f978-4e19-8d4f-7b5f80de945f",
   "metadata": {},
   "outputs": [
    {
     "data": {
      "text/plain": [
       "array([83, 87, 84, 88, 67, 55, 72, 81, 79, 53])"
      ]
     },
     "execution_count": 28,
     "metadata": {},
     "output_type": "execute_result"
    }
   ],
   "source": [
    "filter_arr=arr[arr>50]\n",
    "filter_arr"
   ]
  },
  {
   "cell_type": "code",
   "execution_count": 35,
   "id": "9c33b833-70cf-42ef-8ccd-e8b9e594892d",
   "metadata": {},
   "outputs": [
    {
     "data": {
      "text/plain": [
       "array([ 7,  2,  1,  4,  9,  6,  3,  5,  8, 10])"
      ]
     },
     "execution_count": 35,
     "metadata": {},
     "output_type": "execute_result"
    }
   ],
   "source": [
    "arr1 = np.array([1, 2, 3, 4, 5, 6,7,8,9,10])\n",
    "np.random.shuffle(arr1)\n",
    "arr1"
   ]
  },
  {
   "cell_type": "code",
   "execution_count": null,
   "id": "b6151dcf-ade2-419f-b325-a6fda9d63416",
   "metadata": {},
   "outputs": [],
   "source": []
  }
 ],
 "metadata": {
  "kernelspec": {
   "display_name": "Python 3 (ipykernel)",
   "language": "python",
   "name": "python3"
  },
  "language_info": {
   "codemirror_mode": {
    "name": "ipython",
    "version": 3
   },
   "file_extension": ".py",
   "mimetype": "text/x-python",
   "name": "python",
   "nbconvert_exporter": "python",
   "pygments_lexer": "ipython3",
   "version": "3.10.8"
  }
 },
 "nbformat": 4,
 "nbformat_minor": 5
}
